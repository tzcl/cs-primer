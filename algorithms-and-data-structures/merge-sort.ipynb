{
 "cells": [
  {
   "cell_type": "markdown",
   "metadata": {},
   "source": [
    "# Merge sort\n",
    "\n",
    "Implement merge sort. As an extension, minimise the extra space used. There's a way to keep part of the array sorted and use the rest as working space but it's quite complicated. Aiming for one additional copy of the array is a good goal.\n"
   ]
  },
  {
   "cell_type": "markdown",
   "metadata": {},
   "source": [
    "The idea is to divide and conquer by halving the array and merging the splits together. We need a merge function that takes two sorted arrays and combines them.\n"
   ]
  },
  {
   "cell_type": "code",
   "execution_count": 34,
   "metadata": {},
   "outputs": [],
   "source": [
    "import random\n",
    "import timeit"
   ]
  },
  {
   "cell_type": "code",
   "execution_count": 41,
   "metadata": {},
   "outputs": [],
   "source": [
    "def merge(left: list[int], right: list[int]) -> list[int]:\n",
    "    combined = []\n",
    "    l, r = 0, 0\n",
    "\n",
    "    while l < len(left) and r < len(right):\n",
    "        if left[l] < right[r]:\n",
    "            m = left[l]\n",
    "            l += 1\n",
    "        else:\n",
    "            m = right[r]\n",
    "            r += 1\n",
    "\n",
    "        combined.append(m)\n",
    "\n",
    "    # Append any left over elements if left and right are unbalanced\n",
    "    if l < len(left):\n",
    "        return combined + left[l:]\n",
    "    if r < len(right):\n",
    "        return combined + right[r:]\n",
    "\n",
    "    return combined"
   ]
  },
  {
   "cell_type": "code",
   "execution_count": 42,
   "metadata": {},
   "outputs": [],
   "source": [
    "assert merge([1, 3, 5], [2, 4, 6]) == [1, 2, 3, 4, 5, 6]\n",
    "assert merge([1, 3, 5, 7, 9], [2, 4, 6]) == [1, 2, 3, 4, 5, 6, 7, 9]\n",
    "assert merge([1, 3, 5], [0, 2, 4, 6, 8]) == [0, 1, 2, 3, 4, 5, 6, 8]"
   ]
  },
  {
   "cell_type": "markdown",
   "metadata": {},
   "source": [
    "Merge sort is then a recursive wrapper around this.\n"
   ]
  },
  {
   "cell_type": "code",
   "execution_count": 43,
   "metadata": {},
   "outputs": [],
   "source": [
    "def mergesort(arr: list[int]) -> list[int]:\n",
    "    if len(arr) <= 1:\n",
    "        return arr\n",
    "\n",
    "    mid = len(arr) // 2\n",
    "\n",
    "    left = mergesort(arr[:mid])\n",
    "    right = mergesort(arr[mid:])\n",
    "\n",
    "    return merge(left, right)"
   ]
  },
  {
   "cell_type": "code",
   "execution_count": 44,
   "metadata": {},
   "outputs": [],
   "source": [
    "assert mergesort([5, 4, 3, 2, 1]) == [1, 2, 3, 4, 5], mergesort([5, 4, 3, 2, 1])\n",
    "assert mergesort([8, 4, 2, 1]) == [1, 2, 4, 8], mergesort([8, 4, 2, 1])"
   ]
  },
  {
   "cell_type": "markdown",
   "metadata": {},
   "source": [
    "Now, to optimise memory usage. How we avoid making heaps of copies of the array? Draw a diagram of all of this.\n"
   ]
  },
  {
   "cell_type": "code",
   "execution_count": 67,
   "metadata": {},
   "outputs": [],
   "source": [
    "def _merge(arr: list[int], l: int, mid: int, r: int):\n",
    "    \"\"\"\n",
    "    Merge the intervals [l, m) and [m, r)\n",
    "    \"\"\"\n",
    "    ans = []\n",
    "\n",
    "    i = l\n",
    "    j = mid\n",
    "\n",
    "    while i < mid and j < r:\n",
    "        if arr[i] < arr[j]:\n",
    "            ans.append(arr[i])\n",
    "            i += 1\n",
    "        else:\n",
    "            ans.append(arr[j])\n",
    "            j += 1\n",
    "\n",
    "    if i < mid:\n",
    "        ans += arr[i:mid]\n",
    "    if j < r:\n",
    "        ans += arr[j:r]\n",
    "\n",
    "    arr[l:r] = ans\n",
    "\n",
    "\n",
    "def _mergesort(arr: list[int], l: int, r: int):\n",
    "    if r - l <= 1:\n",
    "        return\n",
    "\n",
    "    mid = l + (r - l) // 2\n",
    "\n",
    "    _mergesort(arr, l, mid)\n",
    "    _mergesort(arr, mid, r)\n",
    "\n",
    "    _merge(arr, l, mid, r)\n",
    "\n",
    "\n",
    "def mergesort2(arr: list[int]) -> list[int]:\n",
    "    _mergesort(arr, 0, len(arr))\n",
    "    return arr"
   ]
  },
  {
   "cell_type": "code",
   "execution_count": 69,
   "metadata": {},
   "outputs": [
    {
     "name": "stdout",
     "output_type": "stream",
     "text": [
      "naive merge sort took 2324.81ms\n",
      "optimised merge sort took 1858.66ms\n"
     ]
    }
   ],
   "source": [
    "def test(sort):\n",
    "    arr = [random.randint(-100, 100) for _ in range(10000)]\n",
    "    got = sort(arr)\n",
    "    arr.sort()\n",
    "    assert got == arr, f\"{arr} vs {got}\"\n",
    "\n",
    "\n",
    "naive = timeit.timeit(lambda: test(mergesort), number=100)\n",
    "print(f\"naive merge sort took {naive*1000:.2f}ms\")\n",
    "\n",
    "optimised = timeit.timeit(lambda: test(mergesort2), number=100)\n",
    "print(f\"optimised merge sort took {optimised*1000:.2f}ms\")"
   ]
  }
 ],
 "metadata": {
  "kernelspec": {
   "display_name": ".venv",
   "language": "python",
   "name": "python3"
  },
  "language_info": {
   "codemirror_mode": {
    "name": "ipython",
    "version": 3
   },
   "file_extension": ".py",
   "mimetype": "text/x-python",
   "name": "python",
   "nbconvert_exporter": "python",
   "pygments_lexer": "ipython3",
   "version": "3.10.14"
  }
 },
 "nbformat": 4,
 "nbformat_minor": 2
}
