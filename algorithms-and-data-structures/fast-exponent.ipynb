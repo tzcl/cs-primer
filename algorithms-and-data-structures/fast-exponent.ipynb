{
 "cells": [
  {
   "cell_type": "markdown",
   "metadata": {},
   "source": [
    "# Fast exponentiation\n",
    "\n",
    "Write a function `exp(a, n)` that raises an integer to the power `n` in less than `O(n)` multiplications.\n"
   ]
  },
  {
   "cell_type": "code",
   "execution_count": null,
   "metadata": {},
   "outputs": [],
   "source": [
    "def exp(a: int, n: int) -> int:\n",
    "    \"\"\"\n",
    "    Brute force: a^n = a * a * ... * a [n times]\n",
    "\n",
    "    We can do it in O(logn) with repeated squaring.\n",
    "\n",
    "    For example, with a = 5, n = 4:\n",
    "      5^4 = 5 * 5 * 5 * 5 = 625       4 ops\n",
    "      5^4 = (5^2)^2 = (5*5) * (5*5)   2 ops\n",
    "\n",
    "    With a = 3, n = 7:\n",
    "      3^7 = 3 * 3 * 3 * 3 * 3 * 3 *3  7 ops\n",
    "          = (3^4) * (3^2) * 3\n",
    "          = (3*3) * ((3*3)*(3*3)) * 3 4 ops\n",
    "\n",
    "    Plan:\n",
    "      1. Base case: n = 1, return a\n",
    "      2. If n is odd, return a * exp(a, n - 1)\n",
    "      3. If n is even, return r * r where r = exp(a, n >> 1)\n",
    "    \"\"\"\n",
    "    if n == 0:\n",
    "        return 1\n",
    "    if n == 1:\n",
    "        return a\n",
    "    if n % 2 == 1:\n",
    "        return a * exp(a, n - 1)\n",
    "    else:\n",
    "        r = exp(a, n >> 1)\n",
    "        return r * r"
   ]
  },
  {
   "cell_type": "code",
   "execution_count": null,
   "metadata": {},
   "outputs": [],
   "source": [
    "cases = ((5, 4, 625), (3, 7, 2187))\n",
    "for a, n, want in cases:\n",
    "    got = exp(a, n)\n",
    "    assert got == want, got"
   ]
  },
  {
   "cell_type": "code",
   "execution_count": null,
   "metadata": {},
   "outputs": [],
   "source": [
    "def exp_iter(a: int, n: int) -> int:\n",
    "    acc = 1\n",
    "    while n > 0:\n",
    "        if n % 2 == 1:\n",
    "            acc *= a\n",
    "            n -= 1\n",
    "        else:\n",
    "            a *= a\n",
    "            n >>= 1\n",
    "\n",
    "    return acc"
   ]
  },
  {
   "cell_type": "code",
   "execution_count": null,
   "metadata": {},
   "outputs": [],
   "source": [
    "assert exp_iter(5, 0) == 1\n",
    "assert exp_iter(5, 1) == 5, exp_iter(5, 1)\n",
    "assert exp_iter(5, 2) == 25, exp_iter(5, 2)\n",
    "assert exp_iter(5, 3) == 125, exp_iter(5, 3)\n",
    "assert exp_iter(5, 4) == 625, exp_iter(5, 4)\n",
    "\n",
    "assert exp_iter(2, 5) == 32, exp_iter(2, 5)\n",
    "assert exp_iter(4, 4) == 256, exp_iter(4, 4)"
   ]
  },
  {
   "cell_type": "code",
   "execution_count": null,
   "metadata": {},
   "outputs": [],
   "source": [
    "def exp_recur(a: int, n: int) -> int:\n",
    "    if n == 0:\n",
    "        return 1\n",
    "    elif n % 2 == 1:\n",
    "        return a * exp_recur(a, n - 1)\n",
    "    else:\n",
    "        r = exp_recur(a, n >> 1)\n",
    "        return r * r"
   ]
  },
  {
   "cell_type": "code",
   "execution_count": null,
   "metadata": {},
   "outputs": [],
   "source": [
    "assert exp_recur(5, 0) == 1\n",
    "assert exp_recur(5, 1) == 5, exp_recur(5, 1)\n",
    "assert exp_recur(5, 2) == 25, exp_recur(5, 2)\n",
    "assert exp_recur(5, 3) == 125, exp_recur(5, 3)\n",
    "assert exp_recur(5, 4) == 625, exp_recur(5, 4)\n",
    "\n",
    "assert exp_recur(2, 5) == 32, exp_recur(2, 5)\n",
    "assert exp_recur(4, 4) == 256, exp_recur(4, 4)"
   ]
  },
  {
   "cell_type": "code",
   "execution_count": null,
   "metadata": {},
   "outputs": [],
   "source": [
    "from functools import cache\n",
    "\n",
    "\n",
    "@cache\n",
    "def exp_cache(a: int, n: int) -> int:\n",
    "    if n == 0:\n",
    "        return 1\n",
    "    if n == 1:\n",
    "        return a\n",
    "    left = n >> 1\n",
    "    right = n - left\n",
    "    return exp_cache(a, left) * exp_cache(a, right)\n",
    "\n",
    "\n",
    "def exp_reset_cache(a: int, n: int) -> int:\n",
    "    exp_cache.cache_clear()\n",
    "    return exp_cache(a, n)"
   ]
  },
  {
   "cell_type": "code",
   "execution_count": null,
   "metadata": {},
   "outputs": [],
   "source": [
    "import timeit\n",
    "import matplotlib.pyplot as plt\n",
    "\n",
    "n_values = range(1, 201)\n",
    "\n",
    "# Measure the running time of exp and exp_iter\n",
    "exp_recur_times = []\n",
    "exp_iter_times = []\n",
    "\n",
    "\n",
    "for n in range(1, 201):\n",
    "    exp_recur_time = timeit.timeit(lambda: exp_recur(6, n), number=1000)\n",
    "    exp_recur_times.append(exp_recur_time)\n",
    "\n",
    "    exp_iter_time = timeit.timeit(lambda: exp_iter(3, n), number=1000)\n",
    "    exp_iter_times.append(exp_iter_time)\n",
    "\n",
    "\n",
    "# Plot the results\n",
    "plt.plot(n_values, exp_recur_times, label=\"exp_recur\")\n",
    "plt.plot(n_values, exp_iter_times, label=\"exp_iter\")\n",
    "plt.xlabel(\"n\")\n",
    "plt.ylabel(\"Time (seconds)\")\n",
    "plt.title(\"Running Time of exp_recur vs exp_iter\")\n",
    "plt.legend()\n",
    "plt.show()"
   ]
  }
 ],
 "metadata": {
  "kernelspec": {
   "display_name": ".venv",
   "language": "python",
   "name": "python3"
  },
  "language_info": {
   "codemirror_mode": {
    "name": "ipython",
    "version": 3
   },
   "file_extension": ".py",
   "mimetype": "text/x-python",
   "name": "python",
   "nbconvert_exporter": "python",
   "pygments_lexer": "ipython3",
   "version": "3.10.15"
  }
 },
 "nbformat": 4,
 "nbformat_minor": 2
}
