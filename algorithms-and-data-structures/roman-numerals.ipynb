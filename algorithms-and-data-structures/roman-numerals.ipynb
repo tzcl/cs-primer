{
 "cells": [
  {
   "cell_type": "markdown",
   "metadata": {},
   "source": [
    "# Roman numerals\n",
    "\n",
    "Problem: Write a function to convert an integer to its Roman numeral form.\n",
    "\n",
    "Assumptions:\n",
    "\n",
    "1. The input is a positive integer - it seems like the Romans didn't have a numeral for 0\n",
    "2. The input is less than 4,000 - on Wikipedia, the \"standard form\" only goes up to 3,999.\n",
    "3. The standard subtractive forms are: IV, IX, XL, XC, CD, CM\n"
   ]
  },
  {
   "cell_type": "code",
   "execution_count": null,
   "metadata": {},
   "outputs": [],
   "source": [
    "numerals = {\n",
    "    1000: \"M\",\n",
    "    900: \"CM\",\n",
    "    500: \"D\",\n",
    "    400: \"CD\",\n",
    "    100: \"C\",\n",
    "    90: \"XC\",\n",
    "    50: \"L\",\n",
    "    40: \"XL\",\n",
    "    10: \"X\",\n",
    "    9: \"IX\",\n",
    "    5: \"V\",\n",
    "    4: \"IV\",\n",
    "    1: \"I\",\n",
    "}"
   ]
  },
  {
   "cell_type": "code",
   "execution_count": null,
   "metadata": {},
   "outputs": [],
   "source": [
    "def roman_numeral(n: int) -> str:\n",
    "    if n < 0 or n > 3999:\n",
    "        raise ValueError(\"number must be between 1 and 3999\")\n",
    "\n",
    "    # Base case\n",
    "    if n == 0:\n",
    "        return \"\"\n",
    "\n",
    "    for numeral in list(numerals.keys()):\n",
    "        if n >= numeral:\n",
    "            return numerals[numeral] + roman_numeral(n - numeral)"
   ]
  },
  {
   "cell_type": "code",
   "execution_count": null,
   "metadata": {},
   "outputs": [],
   "source": [
    "assert roman_numeral(1) == \"I\", roman_numeral(1)\n",
    "assert roman_numeral(3) == \"III\", roman_numeral(3)\n",
    "assert roman_numeral(4) == \"IV\", roman_numeral(4)\n",
    "assert roman_numeral(5) == \"V\", roman_numeral(5)\n",
    "assert roman_numeral(9) == \"IX\", roman_numeral(9)\n",
    "assert roman_numeral(10) == \"X\", roman_numeral(10)\n",
    "assert roman_numeral(3999) == \"MMMCMXCIX\", roman_numeral(3999)"
   ]
  },
  {
   "cell_type": "code",
   "execution_count": null,
   "metadata": {},
   "outputs": [],
   "source": [
    "def roman_numeral_iter(n: int) -> str:\n",
    "    if n < 0 or n > 3999:\n",
    "        raise ValueError(\"number must be between 1 and 3999\")\n",
    "\n",
    "    ans = []\n",
    "    values = numerals.keys()\n",
    "\n",
    "    while n > 0:\n",
    "        for key in values:\n",
    "            if n >= key:\n",
    "                break\n",
    "\n",
    "        ans.append(numerals[key])\n",
    "        n -= key\n",
    "\n",
    "    return \"\".join(ans)"
   ]
  },
  {
   "cell_type": "code",
   "execution_count": null,
   "metadata": {},
   "outputs": [],
   "source": [
    "import bisect\n",
    "\n",
    "\n",
    "# This is not really worth it, it's slower and more complex that the iterative version.\n",
    "def roman_numeral_bisect(n: int) -> str:\n",
    "    if n < 1 or n > 3999:\n",
    "        raise ValueError(\"number must be between 1 and 3999\")\n",
    "\n",
    "    ans = []\n",
    "    values = list(numerals.keys())\n",
    "    reverse = [-x for x in values]\n",
    "\n",
    "    while n > 0:\n",
    "        # Find largest value smaller than n\n",
    "        # Using negative numbers is a neat trick to avoid having to manipulate the index\n",
    "        value = values[bisect.bisect_left(reverse, -n)]\n",
    "        ans.append(numerals[value])\n",
    "        n -= value\n",
    "\n",
    "    return \"\".join(ans)\n"
   ]
  },
  {
   "cell_type": "code",
   "execution_count": null,
   "metadata": {},
   "outputs": [],
   "source": [
    "import timeit\n",
    "\n",
    "n = 3999\n",
    "\n",
    "time_roman_numeral = timeit.timeit(lambda: roman_numeral(n), number=1000)\n",
    "time_roman_numeral_iter = timeit.timeit(lambda: roman_numeral_iter(n), number=1000)\n",
    "time_roman_numeral_bisect = timeit.timeit(lambda: roman_numeral_bisect(n), number=1000)\n",
    "\n",
    "print(f\"Time taken by roman_numeral({n}): {time_roman_numeral * 1000:.3f} milliseconds\")\n",
    "print(\n",
    "    f\"Time taken by roman_numeral_iter({n}): {time_roman_numeral_iter * 1000:.3f} milliseconds\"\n",
    ")\n",
    "print(\n",
    "    f\"Time taken by roman_numeral_bisect({n}): {time_roman_numeral_bisect * 1000:.3f} milliseconds\"\n",
    ")"
   ]
  },
  {
   "cell_type": "code",
   "execution_count": null,
   "metadata": {},
   "outputs": [],
   "source": [
    "import unittest\n",
    "\n",
    "\n",
    "class TestRomanNumeral(unittest.TestCase):\n",
    "    def test_single_digits(self):\n",
    "        self.assertEqual(roman_numeral(1), \"I\")\n",
    "        self.assertEqual(roman_numeral(3), \"III\")\n",
    "        self.assertEqual(roman_numeral(4), \"IV\")\n",
    "        self.assertEqual(roman_numeral(5), \"V\")\n",
    "        self.assertEqual(roman_numeral(9), \"IX\")\n",
    "\n",
    "    def test_double_digits(self):\n",
    "        self.assertEqual(roman_numeral(10), \"X\")\n",
    "        self.assertEqual(roman_numeral(20), \"XX\")\n",
    "        self.assertEqual(roman_numeral(40), \"XL\")\n",
    "        self.assertEqual(roman_numeral(50), \"L\")\n",
    "        self.assertEqual(roman_numeral(90), \"XC\")\n",
    "\n",
    "    def test_triple_digits(self):\n",
    "        self.assertEqual(roman_numeral(100), \"C\")\n",
    "        self.assertEqual(roman_numeral(200), \"CC\")\n",
    "        self.assertEqual(roman_numeral(400), \"CD\")\n",
    "        self.assertEqual(roman_numeral(500), \"D\")\n",
    "        self.assertEqual(roman_numeral(900), \"CM\")\n",
    "\n",
    "    def test_four_digits(self):\n",
    "        self.assertEqual(roman_numeral(1000), \"M\")\n",
    "        self.assertEqual(roman_numeral(2000), \"MM\")\n",
    "        self.assertEqual(roman_numeral(3000), \"MMM\")\n",
    "        self.assertEqual(roman_numeral(3999), \"MMMCMXCIX\")\n",
    "\n",
    "    def test_invalid_values(self):\n",
    "        with self.assertRaises(ValueError):\n",
    "            roman_numeral(-1)\n",
    "        with self.assertRaises(ValueError):\n",
    "            roman_numeral(4000)\n",
    "\n",
    "\n",
    "if __name__ == \"__main__\":\n",
    "    # TIL: argv=[''], exit=False is required in a Jupyter notebook to prevent the kernel from exiting\n",
    "    unittest.main(argv=[\"\"], exit=False)"
   ]
  }
 ],
 "metadata": {
  "kernelspec": {
   "display_name": ".venv",
   "language": "python",
   "name": "python3"
  },
  "language_info": {
   "codemirror_mode": {
    "name": "ipython",
    "version": 3
   },
   "file_extension": ".py",
   "mimetype": "text/x-python",
   "name": "python",
   "nbconvert_exporter": "python",
   "pygments_lexer": "ipython3",
   "version": "3.10.15"
  }
 },
 "nbformat": 4,
 "nbformat_minor": 2
}
