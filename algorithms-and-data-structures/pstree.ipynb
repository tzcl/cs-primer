{
 "cells": [
  {
   "cell_type": "markdown",
   "metadata": {},
   "source": [
    "# `pstree`\n",
    "\n",
    "Implement a program that reformats the output of `ps` to display it as a tree.\n",
    "\n",
    "Plan:\n",
    "\n",
    "1. Parse the output of `ps` to get the process list.\n",
    "2. Construct a tree based on the parent process id.\n",
    "3. Traverse the tree depth-first to print out processes.\n"
   ]
  },
  {
   "cell_type": "code",
   "execution_count": null,
   "metadata": {},
   "outputs": [],
   "source": [
    "!ps -axo ppid,pid,user,command"
   ]
  },
  {
   "cell_type": "code",
   "execution_count": null,
   "metadata": {},
   "outputs": [],
   "source": [
    "from collections import namedtuple\n",
    "import re\n",
    "import subprocess\n",
    "from typing import Sequence"
   ]
  },
  {
   "cell_type": "code",
   "execution_count": null,
   "metadata": {},
   "outputs": [],
   "source": [
    "pattern = re.compile(r\"(\\d+)\\s+(\\d+)\\s+(\\w+)\\s+(\\/.+)\")\n",
    "\n",
    "Process = namedtuple(\"Process\", [\"ppid\", \"pid\", \"user\", \"command\"])\n",
    "\n",
    "\n",
    "def parse_ps_output() -> Sequence[Process]:\n",
    "    output = subprocess.run(\n",
    "        [\"ps\", \"axo\", \"ppid,pid,user,command\"], capture_output=True, check=True\n",
    "    )\n",
    "    return [\n",
    "        Process._make(match.groups())\n",
    "        for match in pattern.finditer(output.stdout.decode())\n",
    "    ]\n"
   ]
  },
  {
   "cell_type": "code",
   "execution_count": null,
   "metadata": {},
   "outputs": [],
   "source": [
    "output = parse_ps_output()\n",
    "for i in range(10):\n",
    "    print(output[i])"
   ]
  },
  {
   "cell_type": "markdown",
   "metadata": {},
   "source": [
    "## Hacky tree\n",
    "\n",
    "Constructing the tree is a little bit tricky. Given each line, how do we know if the current process's parent is already in the tree? I guess we can use another dictionary to track each seen pid and it's position in the tree.\n"
   ]
  },
  {
   "cell_type": "code",
   "execution_count": null,
   "metadata": {},
   "outputs": [],
   "source": [
    "def construct_tree(output: Sequence[Process]) -> dict:\n",
    "    tree = {}\n",
    "    nodes = {}\n",
    "\n",
    "    for process in output:\n",
    "        if process.ppid not in nodes:\n",
    "            tree[process] = {}\n",
    "            nodes[process.pid] = tree[process]\n",
    "            continue\n",
    "\n",
    "        node = nodes[process.ppid]\n",
    "        node[process] = {}\n",
    "        nodes[process.pid] = node[process]\n",
    "\n",
    "    return tree"
   ]
  },
  {
   "cell_type": "code",
   "execution_count": null,
   "metadata": {},
   "outputs": [],
   "source": [
    "process_tree = construct_tree(output)"
   ]
  },
  {
   "cell_type": "code",
   "execution_count": null,
   "metadata": {},
   "outputs": [],
   "source": [
    "def print_tree(tree: dict, depth: int = 0):\n",
    "    if not tree:\n",
    "        return\n",
    "\n",
    "    for process in tree.keys():\n",
    "        print(\n",
    "            f\"{'   ' * (depth - 1) if depth > 1 else ''}{'└─ ' if depth else ''}{process}\"\n",
    "        )\n",
    "        print_tree(tree[process], depth + 1)\n"
   ]
  },
  {
   "cell_type": "code",
   "execution_count": null,
   "metadata": {},
   "outputs": [],
   "source": [
    "print_tree(process_tree)"
   ]
  },
  {
   "cell_type": "code",
   "execution_count": null,
   "metadata": {},
   "outputs": [],
   "source": [
    "def print_tree_iter(tree: dict):\n",
    "    if not tree:\n",
    "        return\n",
    "\n",
    "    root = next(iter(tree.keys()))\n",
    "    children = tree[root]\n",
    "    stack = [(root, children, 0)]\n",
    "\n",
    "    while stack:\n",
    "        node, children, depth = stack.pop()\n",
    "        print(\n",
    "            f\"{'   ' * (depth - 1) if depth > 1 else ''}{'└─ ' if depth else ''}{node}\"\n",
    "        )\n",
    "        for process in reversed(children.keys()):\n",
    "            stack.append((process, children[process], depth + 1))\n"
   ]
  },
  {
   "cell_type": "code",
   "execution_count": null,
   "metadata": {},
   "outputs": [],
   "source": [
    "print_tree_iter(process_tree)"
   ]
  },
  {
   "cell_type": "code",
   "execution_count": null,
   "metadata": {},
   "outputs": [],
   "source": [
    "def print_tree_bfs(tree: dict):\n",
    "    if not tree:\n",
    "        return\n",
    "\n",
    "    root = next(iter(tree.keys()))\n",
    "    children = tree[root]\n",
    "    queue = [(root, children)]\n",
    "\n",
    "    depth = 0\n",
    "\n",
    "    while queue:\n",
    "        size = len(queue)\n",
    "        for _ in range(size):\n",
    "            node, children = queue.pop(0)\n",
    "            print(\n",
    "                f\"{'   ' * (depth - 1) if depth > 1 else ''}{'└─ ' if depth else ''}{node}\"\n",
    "            )\n",
    "            for process in children.keys():\n",
    "                queue.append((process, children[process]))\n",
    "        depth += 1"
   ]
  },
  {
   "cell_type": "code",
   "execution_count": null,
   "metadata": {},
   "outputs": [],
   "source": [
    "print_tree_bfs(process_tree)"
   ]
  },
  {
   "cell_type": "markdown",
   "metadata": {},
   "source": [
    "## Notes\n",
    "\n",
    "MacOS ships with the BSD version of `ps`, which does not have a `--forest` option (unlike the GNU version).\n"
   ]
  },
  {
   "cell_type": "code",
   "execution_count": null,
   "metadata": {},
   "outputs": [],
   "source": [
    "!man ps"
   ]
  }
 ],
 "metadata": {
  "kernelspec": {
   "display_name": ".venv",
   "language": "python",
   "name": "python3"
  },
  "language_info": {
   "codemirror_mode": {
    "name": "ipython",
    "version": 3
   },
   "file_extension": ".py",
   "mimetype": "text/x-python",
   "name": "python",
   "nbconvert_exporter": "python",
   "pygments_lexer": "ipython3",
   "version": "3.10.16"
  }
 },
 "nbformat": 4,
 "nbformat_minor": 2
}
