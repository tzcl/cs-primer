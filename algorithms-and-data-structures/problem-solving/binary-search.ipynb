{
 "cells": [
  {
   "cell_type": "markdown",
   "metadata": {},
   "source": [
    "# Binary search\n",
    "\n",
    "Implement binary search. It should work first time without twiddling with indices!"
   ]
  },
  {
   "cell_type": "code",
   "execution_count": null,
   "metadata": {},
   "outputs": [],
   "source": [
    "def binary_search(arr, target) -> bool:\n",
    "    l, r = 0, len(arr)\n",
    "\n",
    "    while l < r:\n",
    "        m = l + (r - l) // 2\n",
    "        if target == arr[m]:\n",
    "            return True\n",
    "        if target < arr[m]:\n",
    "            r = m\n",
    "        elif target > arr[m]:\n",
    "            l = m + 1\n",
    "\n",
    "    return False"
   ]
  },
  {
   "cell_type": "code",
   "execution_count": null,
   "metadata": {},
   "outputs": [],
   "source": [
    "array = [x for x in range(1, 11)]\n",
    "cases = ((1, True), (5, True), (10, True), (11, False), (0, False), (-1, False))\n",
    "\n",
    "for target, result in cases:\n",
    "    assert binary_search(array, target) == result"
   ]
  },
  {
   "cell_type": "markdown",
   "metadata": {},
   "source": [
    "Really, binary search is an application of another algorithm - partition. Partition takes a binary predicate and finds the point at which the predicate changes value."
   ]
  },
  {
   "cell_type": "code",
   "execution_count": null,
   "metadata": {},
   "outputs": [],
   "source": [
    "def partition(arr, pred) -> int:\n",
    "    l, r = 0, len(arr)\n",
    "\n",
    "    while l < r:\n",
    "        m = l + (r - l) // 2\n",
    "        # Assume we want Falses on the right\n",
    "        if pred(arr[m]):\n",
    "            l = m + 1\n",
    "        else:\n",
    "            r = m\n",
    "\n",
    "    return l # l == r"
   ]
  },
  {
   "cell_type": "code",
   "execution_count": null,
   "metadata": {},
   "outputs": [],
   "source": [
    "import bisect\n",
    "\n",
    "assert partition(array, lambda x: x < 5) == bisect.bisect_left(array, 5)\n",
    "assert partition(array, lambda x: x <= 5) == bisect.bisect_right(array, 5)"
   ]
  },
  {
   "cell_type": "code",
   "execution_count": null,
   "metadata": {},
   "outputs": [],
   "source": [
    "def binary_search2(arr, target) -> bool:\n",
    "    i = partition(arr, lambda x: x < target)\n",
    "    return i < len(arr) and arr[i] == target"
   ]
  },
  {
   "cell_type": "markdown",
   "metadata": {},
   "source": [
    "Is it more performant to avoid the early return? It can return early in some cases but adds an extra branch which is extra overhead on each step."
   ]
  },
  {
   "cell_type": "code",
   "execution_count": null,
   "metadata": {},
   "outputs": [],
   "source": [
    "def binary_search3(arr, target) -> bool:\n",
    "    l, r = 0, len(arr)\n",
    "\n",
    "    while r - l > 1:\n",
    "        m = l + (r - l) // 2\n",
    "        if target < arr[m]:\n",
    "            r = m\n",
    "        elif target >= arr[m]:\n",
    "            l = m\n",
    "\n",
    "    return arr[l] == target"
   ]
  },
  {
   "cell_type": "code",
   "execution_count": null,
   "metadata": {},
   "outputs": [],
   "source": [
    "import timeit\n",
    "import random\n",
    "\n",
    "def test(search):\n",
    "    array = [2*x for x in range(10)]\n",
    "    targets = [random.randint(1, 10) for _ in range(1000)]\n",
    "\n",
    "    for target in targets:\n",
    "        assert search(array, target) == (target % 2 == 0)\n",
    "\n",
    "early_return = timeit.timeit(lambda: test(binary_search), number=1)\n",
    "partition_search = timeit.timeit(lambda: test(binary_search2), number=1)\n",
    "no_early_return = timeit.timeit(lambda: test(binary_search3), number=1)\n",
    "\n",
    "print(f\"early return: {1000 * early_return:.3f} milliseconds\")\n",
    "print(f\"partition search: {1000 * partition_search:.3f} milliseconds\")\n",
    "print(f\"no early return: {1000 * no_early_return:.3f} milliseconds\")"
   ]
  },
  {
   "cell_type": "markdown",
   "metadata": {},
   "source": [
    "It turns out that the extra branching does make a difference. It's more efficient to just search all the way to the end then return. Also, the partition call adds some overhead."
   ]
  },
  {
   "cell_type": "markdown",
   "metadata": {},
   "source": []
  }
 ],
 "metadata": {
  "kernelspec": {
   "display_name": ".venv",
   "language": "python",
   "name": "python3"
  },
  "language_info": {
   "codemirror_mode": {
    "name": "ipython",
    "version": 3
   },
   "file_extension": ".py",
   "mimetype": "text/x-python",
   "name": "python",
   "nbconvert_exporter": "python",
   "pygments_lexer": "ipython3",
   "version": "3.10.14"
  }
 },
 "nbformat": 4,
 "nbformat_minor": 2
}
