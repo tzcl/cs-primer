{
 "cells": [
  {
   "cell_type": "markdown",
   "metadata": {},
   "source": [
    "# Paren Match\n",
    "\n",
    "This is a classic use case of stacks. Remember that you want to reach for a stack *when you want to prioritise the most recently visited element*.\n",
    "\n",
    "The problem is to check a string and ensure that all nested parentheses, `(), [], {}`, are closed before their parent is closed."
   ]
  },
  {
   "cell_type": "code",
   "execution_count": null,
   "metadata": {},
   "outputs": [],
   "source": [
    "pair = {\"(\": \")\", \"{\": \"}\", \"[\": \"]\"}\n",
    "reverse = {\")\": \"(\", \"}\": \"{\", \"]\": \"[\"}"
   ]
  },
  {
   "cell_type": "code",
   "execution_count": null,
   "metadata": {},
   "outputs": [],
   "source": [
    "def valid_paren(s: str) -> bool:\n",
    "    stack = []\n",
    "\n",
    "    for c in s:\n",
    "        if c in \"([{\":\n",
    "            stack.append(pair[c])\n",
    "            continue\n",
    "        \n",
    "        if len(stack) == 0 or c != stack.pop():\n",
    "            return False\n",
    "\n",
    "    return len(stack) == 0"
   ]
  },
  {
   "cell_type": "code",
   "execution_count": null,
   "metadata": {},
   "outputs": [],
   "source": [
    "# Test cases\n",
    "test_cases = [\n",
    "    (\"()\", True),\n",
    "    (\"[]\", True),\n",
    "    (\"{}\", True),\n",
    "    (\"([{}])\", True),\n",
    "    (\"([)]\", False),\n",
    "    (\"((()))\", True),\n",
    "    (\"({[)]}\", False),\n",
    "    (\"{[()()]}\", True),\n",
    "    (\"{[(])}\", False),\n",
    "    (\"((())\", False),\n",
    "    (\"(()))\", False),\n",
    "    (\"({})[({})]\", True),\n",
    "    (\"({})[({})\", False),\n",
    "]\n",
    "for case, result in test_cases:\n",
    "    assert valid_paren(case) == result, f\"failed on {case}, got {valid_paren(case)} but want {result}\""
   ]
  },
  {
   "cell_type": "markdown",
   "metadata": {},
   "source": [
    "The stretch goal is to lint `stretch.rkt` and tell the user where any incorrect brackets are (i.e., the missing bracket and its pair)."
   ]
  },
  {
   "cell_type": "code",
   "execution_count": null,
   "metadata": {},
   "outputs": [],
   "source": [
    "def lint_paren(s: str):\n",
    "    stack = []\n",
    "\n",
    "    line, col = 1, 0\n",
    "\n",
    "    for c in s:\n",
    "        if c == \"\\n\":\n",
    "            line += 1\n",
    "            col = 0\n",
    "\n",
    "        if c in \"([{\":\n",
    "            stack.append((pair[c], line, col))\n",
    "\n",
    "        if c in \")]}\":\n",
    "            if len(stack) == 0:\n",
    "                print(f\"error! closing paren {c} [{line}:{col}] without opening paren {reverse[c]}\")\n",
    "                return\n",
    "\n",
    "            mc, mline, mcol = stack.pop()\n",
    "            if c != mc:\n",
    "                print(f\"error! closing paren {c} [{line}:{col}] does not match opening paren {reverse[mc]} [{mline}:{mcol}]\")\n",
    "                return\n",
    "\n",
    "        col += 1\n",
    "\n",
    "    if len(stack) > 0:\n",
    "        print(f\"error! opening paren {c} [{line}:{col}] without closing paren\")"
   ]
  },
  {
   "cell_type": "code",
   "execution_count": null,
   "metadata": {},
   "outputs": [],
   "source": [
    "# Load the content of stretch.rkt\n",
    "with open('stretch.rkt', 'r') as file:\n",
    "    content = file.read()\n",
    "\n",
    "# Run the content through lint_paren\n",
    "lint_paren(content)"
   ]
  }
 ],
 "metadata": {
  "kernelspec": {
   "display_name": ".venv",
   "language": "python",
   "name": "python3"
  },
  "language_info": {
   "codemirror_mode": {
    "name": "ipython",
    "version": 3
   },
   "file_extension": ".py",
   "mimetype": "text/x-python",
   "name": "python",
   "nbconvert_exporter": "python",
   "pygments_lexer": "ipython3",
   "version": "3.10.14"
  }
 },
 "nbformat": 4,
 "nbformat_minor": 2
}
