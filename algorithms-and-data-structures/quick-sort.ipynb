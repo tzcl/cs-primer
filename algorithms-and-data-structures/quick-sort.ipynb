{
 "cells": [
  {
   "cell_type": "markdown",
   "metadata": {},
   "source": [
    "# Quicksort\n",
    "\n",
    "Implement quicksort using the Lomuto partitioning scheme.\n",
    "\n",
    "At a high level, quicksort works by \"conquer and divide\" where you partition the array and then recurse.\n"
   ]
  },
  {
   "cell_type": "code",
   "execution_count": null,
   "metadata": {},
   "outputs": [],
   "source": [
    "def lomuto_range(arr, l, r):\n",
    "    \"\"\"Partition the array into [< t, t, >= t] where t is the first element in the array.\n",
    "\n",
    "    Returns m, the index of t in the array.\"\"\"\n",
    "    if l >= r:\n",
    "        return 0\n",
    "\n",
    "    t = arr[l]\n",
    "\n",
    "    # Keep track of the values smaller than t\n",
    "    m = l\n",
    "\n",
    "    for i in range(l, r):\n",
    "        if arr[i] < t:\n",
    "            arr[i], arr[m + 1] = arr[m + 1], arr[i]\n",
    "            m += 1\n",
    "\n",
    "    arr[l], arr[m] = arr[m], arr[l]\n",
    "\n",
    "    # return arr\n",
    "    return m\n",
    "\n",
    "\n",
    "def lomuto(arr):\n",
    "    return lomuto_range(arr, 0, len(arr))\n"
   ]
  },
  {
   "cell_type": "code",
   "execution_count": null,
   "metadata": {},
   "outputs": [],
   "source": [
    "assert lomuto([4, 5, 6, 2, 3]) == 2\n",
    "assert lomuto([1, 2, 3]) == 0\n",
    "assert lomuto([]) == 0\n",
    "assert lomuto([1]) == 0\n"
   ]
  },
  {
   "cell_type": "code",
   "execution_count": null,
   "metadata": {},
   "outputs": [],
   "source": [
    "def quicksort_range(arr, l, r):\n",
    "    if l >= r:\n",
    "        return\n",
    "    m = lomuto_range(arr, l, r)\n",
    "    quicksort_range(arr, 0, m)\n",
    "    quicksort_range(arr, m + 1, r)\n",
    "\n",
    "\n",
    "def quicksort(arr):\n",
    "    quicksort_range(arr, 0, len(arr))"
   ]
  },
  {
   "cell_type": "code",
   "execution_count": null,
   "metadata": {},
   "outputs": [],
   "source": [
    "arr = [4, 5, 6, 2, 3]\n",
    "quicksort(arr)\n",
    "arr"
   ]
  },
  {
   "cell_type": "code",
   "execution_count": null,
   "metadata": {},
   "outputs": [],
   "source": [
    "def test(arr):\n",
    "    expected = sorted(arr)\n",
    "    quicksort(arr)\n",
    "    assert arr == expected, arr"
   ]
  },
  {
   "cell_type": "code",
   "execution_count": null,
   "metadata": {},
   "outputs": [],
   "source": [
    "test([4, 3, 6, 2, 5])\n",
    "test([3, 2, 1])\n",
    "test([])\n",
    "test([1])\n",
    "test([-0.1, 5])"
   ]
  },
  {
   "cell_type": "markdown",
   "metadata": {},
   "source": [
    "In practice, the partitioning scheme used is either selecting a random pivot or selecting the median of three random values. TODO: Analyse these.\n",
    "\n",
    "There's also Hoare's original partitioning scheme which is more complex than the one proposed by Lomuto. The main difference is in how it handles equal values.\n"
   ]
  },
  {
   "cell_type": "markdown",
   "metadata": {},
   "source": [
    "McIlroy has a paper on producing a \"killer adversary\" for virtually all quicksort implementations, see: https://www.cs.dartmouth.edu/~doug/mdmspe.pdf\n"
   ]
  }
 ],
 "metadata": {
  "kernelspec": {
   "display_name": ".venv",
   "language": "python",
   "name": "python3"
  },
  "language_info": {
   "codemirror_mode": {
    "name": "ipython",
    "version": 3
   },
   "file_extension": ".py",
   "mimetype": "text/x-python",
   "name": "python",
   "nbconvert_exporter": "python",
   "pygments_lexer": "ipython3",
   "version": "3.10.16"
  }
 },
 "nbformat": 4,
 "nbformat_minor": 2
}
