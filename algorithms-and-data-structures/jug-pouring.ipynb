{
 "cells": [
  {
   "cell_type": "markdown",
   "metadata": {},
   "source": [
    "# Jug pouring\n",
    "\n",
    "In Die Hard 3, Bruce Willis has to figure out how to measure exactly 4 gallons of water given only a 3 gallon jug and a 5 gallon jug. Solve this using graph search.\n",
    "\n",
    "Assume that the only possible operations are:\n",
    "\n",
    "1. Filling up the 3 gallon jug (+3, 0)\n",
    "2. Filling up the 5 gallon jug (0, +5)\n",
    "3. Pouring the 3 gallon jug into the 5 gallon jug (-3, +3), handling overflow\n",
    "4. Pouring the 5 gallon jug into the 3 gallon jug (+3, -5), handling overflow\n",
    "\n",
    "(This feels a bit like linear algebra.)\n",
    "\n",
    "Plan:\n",
    "\n",
    "1. Instead of precomputing the entire graph (not sure how many nodes there are), have a function that generates valid transitions\n",
    "   - Can fill jugs up completely: Given `(a, b)`, if `a < 3` or `b < 5`, we move to `(3, b)` or `(a, 5)`\n",
    "   - Can transfer between jugs: Given `(a, b)`, if `a, b > 0`, we move to `(min(a + b, 3), max(0, b - a))` or `(max(0, a - b), min(a + b, 3))`\n",
    "   - Allow emptying the jugs? (Is this useful?)\n",
    "2. Given these rules, try to traverse the entire graph with DFS and find important states\n"
   ]
  },
  {
   "cell_type": "code",
   "execution_count": null,
   "metadata": {},
   "outputs": [],
   "source": [
    "from typing import Tuple, List, Iterator, Callable\n",
    "from collections import deque\n",
    "\n",
    "State = Tuple[int, int, str]"
   ]
  },
  {
   "cell_type": "code",
   "execution_count": null,
   "metadata": {},
   "outputs": [],
   "source": [
    "def transitions(state: State, empty: bool = False) -> List[State]:\n",
    "    x, y, _ = state\n",
    "\n",
    "    states = [\n",
    "        (3, y, \"fill left\"),\n",
    "        (x, 5, \"fill right\"),\n",
    "    ]\n",
    "    if empty:\n",
    "        states.extend(\n",
    "            [\n",
    "                (0, y, \"empty left\"),\n",
    "                (x, 0, \"empty right\"),\n",
    "            ]\n",
    "        )\n",
    "    if x > 0:\n",
    "        states.append(\n",
    "            (max(0, x - (5 - y)), min(y + 3, 5), \"pour into right\"),\n",
    "        )\n",
    "    if y > 0:\n",
    "        states.append(\n",
    "            (min(x + y, 3), max(0, y - (3 - x)), \"pour into left\"),\n",
    "        )\n",
    "\n",
    "    return states"
   ]
  },
  {
   "cell_type": "code",
   "execution_count": null,
   "metadata": {},
   "outputs": [],
   "source": [
    "def traverse(\n",
    "    start: State, transitions: Callable[[State], List[State]]\n",
    ") -> Iterator[State]:\n",
    "    visited = set()\n",
    "    stack = [start]\n",
    "    while stack:\n",
    "        state = stack.pop()\n",
    "        visited.add(state[:2])\n",
    "        yield state\n",
    "        for nxt in transitions(state):\n",
    "            if nxt[:2] not in visited:\n",
    "                stack.append(nxt)"
   ]
  },
  {
   "cell_type": "code",
   "execution_count": null,
   "metadata": {},
   "outputs": [],
   "source": [
    "start = (0, 0, \"start\")"
   ]
  },
  {
   "cell_type": "code",
   "execution_count": null,
   "metadata": {},
   "outputs": [],
   "source": [
    "for state in traverse(start, transitions):\n",
    "    print(state)"
   ]
  },
  {
   "cell_type": "code",
   "execution_count": null,
   "metadata": {},
   "outputs": [],
   "source": [
    "sorted(set(state[:2] for state in traverse(start, transitions)))"
   ]
  },
  {
   "cell_type": "markdown",
   "metadata": {},
   "source": [
    "Emptying jugs is useful! Without it, you can't get to the goal state.\n"
   ]
  },
  {
   "cell_type": "code",
   "execution_count": null,
   "metadata": {},
   "outputs": [],
   "source": [
    "def transitions_with_emptying(state: State) -> List[State]:\n",
    "    return transitions(state, empty=True)"
   ]
  },
  {
   "cell_type": "code",
   "execution_count": null,
   "metadata": {},
   "outputs": [],
   "source": [
    "for state in traverse((0, 0, \"start\"), transitions_with_emptying):\n",
    "    print(state)"
   ]
  },
  {
   "cell_type": "code",
   "execution_count": null,
   "metadata": {},
   "outputs": [],
   "source": [
    "sorted(set(state[:2] for state in traverse(start, transitions_with_emptying)))"
   ]
  },
  {
   "cell_type": "markdown",
   "metadata": {},
   "source": [
    "What's the shortest path to the goal state?\n"
   ]
  },
  {
   "cell_type": "code",
   "execution_count": null,
   "metadata": {},
   "outputs": [],
   "source": [
    "def search(\n",
    "    start: State,\n",
    "    predicate: Callable[[State], bool],\n",
    "    transitions: Callable[[State], List[State]],\n",
    ") -> List[List[State]]:\n",
    "    visited = set()\n",
    "    queue = deque([(start, [start])])\n",
    "    paths: List[List[State]] = []\n",
    "    shortest_path = float(\"inf\")\n",
    "\n",
    "    while queue:\n",
    "        state, path = queue.popleft()\n",
    "        visited.add(state)\n",
    "        if predicate(state):\n",
    "            # if len(path) < shortest_path:\n",
    "            #     paths.clear()\n",
    "            #     shortest_path = len(path)\n",
    "            if len(path) <= shortest_path:\n",
    "                paths.append(path)\n",
    "\n",
    "        for nxt in transitions(state):\n",
    "            if nxt not in visited:\n",
    "                queue.append((nxt, path + [nxt]))\n",
    "\n",
    "    return paths"
   ]
  },
  {
   "cell_type": "code",
   "execution_count": null,
   "metadata": {},
   "outputs": [],
   "source": [
    "# No path exists!\n",
    "search(start, lambda state: state[1] == 4, transitions)"
   ]
  },
  {
   "cell_type": "code",
   "execution_count": null,
   "metadata": {},
   "outputs": [],
   "source": [
    "# All paths that reach the goal state\n",
    "for path in search(start, lambda state: state[1] == 4, transitions_with_emptying):\n",
    "    print(len(path), path)"
   ]
  },
  {
   "cell_type": "code",
   "execution_count": null,
   "metadata": {},
   "outputs": [],
   "source": [
    "# Shortest path\n",
    "search(start, lambda state: state[1] == 4, transitions_with_emptying)[0]"
   ]
  },
  {
   "cell_type": "markdown",
   "metadata": {},
   "source": [
    "# Leetcode\n",
    "\n",
    "It turns out a version of this problem is on Leetcode: https://leetcode.com/problems/water-and-jug-problem/description/\n"
   ]
  },
  {
   "cell_type": "markdown",
   "metadata": {},
   "source": [
    "# Number theory\n",
    "\n",
    "In trying out different possible jug sizes and target volumes, there seems to be a pattern. For it to be possible to reach a target, the jugs must be coprime. Otherwise, you can only reach targets that are multiples of `gcd(x, y)`. For instance, given `x = 2, y = 4`, the only possible states are `0, 2, 4, 6`.\n",
    "\n",
    "My hunch is that given coprime `x, y`, the possible states are all values between `0..x + y`.\n"
   ]
  }
 ],
 "metadata": {
  "kernelspec": {
   "display_name": ".venv",
   "language": "python",
   "name": "python3"
  },
  "language_info": {
   "codemirror_mode": {
    "name": "ipython",
    "version": 3
   },
   "file_extension": ".py",
   "mimetype": "text/x-python",
   "name": "python",
   "nbconvert_exporter": "python",
   "pygments_lexer": "ipython3",
   "version": "3.10.16"
  }
 },
 "nbformat": 4,
 "nbformat_minor": 2
}
