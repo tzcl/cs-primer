{
 "cells": [
  {
   "cell_type": "markdown",
   "metadata": {},
   "source": [
    "# Protobuf `varint`\n",
    "\n",
    "The exercise is to implement an encoder/decoder that converts unsigned 64-bit integers to/from variable-width integers. [The format used by Protobuf](https://protobuf.dev/programming-guides/encoding/#varints) is that each byte is made up of a continuation bit and 7 payload bits."
   ]
  },
  {
   "cell_type": "markdown",
   "metadata": {},
   "source": [
    "## Decoding\n",
    "\n",
    "The Protobuf docs have a worked example of decoding `0x9601` to 150 so let's start with decoding.\n",
    "\n",
    "First of all, let's declare some useful helper functions.\n",
    "\n",
    "TODO: Do I even need this?"
   ]
  },
  {
   "cell_type": "code",
   "execution_count": null,
   "metadata": {
    "tags": [
     "helpers"
    ]
   },
   "outputs": [],
   "source": [
    "def num_bytes(n: int) -> int:\n",
    "    # Initial version: return math.ceil(math.floor(math.log2(n) + 1) / 8)\n",
    "    return (n.bit_length() + 7) // 8\n",
    "\n",
    "\n",
    "def binary(bytes: bytes) -> str:\n",
    "    return \"_\".join(format(byte, \"09_b\") for byte in bytes)\n",
    "\n",
    "\n",
    "def nibbles(n: int) -> str:\n",
    "    return format(n, \"09_b\")\n",
    "\n",
    "\n",
    "def test(got, want):\n",
    "    print(\"got: \", got)\n",
    "    print(\"want:\", want)"
   ]
  },
  {
   "cell_type": "markdown",
   "metadata": {},
   "source": [
    "There are three steps in decoding:\n",
    "1. Drop continuation bits\n",
    "2. Convert to big-endian\n",
    "3. Concatenate and interpret as an unsigned 64-bit integer"
   ]
  },
  {
   "cell_type": "code",
   "execution_count": null,
   "metadata": {},
   "outputs": [],
   "source": [
    "def decode(bytes: bytes) -> int:\n",
    "    # How can I drop a bit??\n",
    "    concat = 0\n",
    "    for i, byte in enumerate(bytes):\n",
    "        # 1. Drop the MSB/continuation byte\n",
    "        msb = byte & 0b10000000  # Read continuation bit\n",
    "        byte &= 0b01111111  # Unset the continuation bit\n",
    "\n",
    "        # 2. Convert to big-endian order\n",
    "        # 3. Concatenate and interpret as an integer\n",
    "        concat += byte << (i * 7)\n",
    "\n",
    "        # See if we need to keep going\n",
    "        if not msb:\n",
    "            break\n",
    "\n",
    "    n = concat.to_bytes(num_bytes(concat))\n",
    "    return int.from_bytes(n)"
   ]
  },
  {
   "cell_type": "markdown",
   "metadata": {},
   "source": [
    "I wasn't sure how best to work with bytes in Python, but it turns out that you don't really need to bother with the `bytes` object. Instead, you can do everything you need on integers with bitmasks and shifting. I found it confusing trying to operate on a single byte at a time but you can visualise operations as:\n",
    "\n",
    "    integer: ... 01010101 10110001 -> ... 01010101\n",
    "    bitmask:              01111111 ->     01111111\n",
    "\n",
    "and you know you've processed all bytes when all bits are zero.\n",
    "\n",
    "A better version of `decode`:"
   ]
  },
  {
   "cell_type": "code",
   "execution_count": null,
   "metadata": {},
   "outputs": [],
   "source": [
    "def decode(varint: bytes) -> int:\n",
    "    decoded = 0\n",
    "    for byte in reversed(varint):\n",
    "        decoded <<= 7 # Make room for byte\n",
    "        decoded |= byte & 0x7f\n",
    "\n",
    "    return decoded\n"
   ]
  },
  {
   "cell_type": "code",
   "execution_count": null,
   "metadata": {},
   "outputs": [],
   "source": [
    "print(\"Decode tests:\")\n",
    "test(decode(bytes([0b10010110, 0b00000001])), 150)\n",
    "test(decode(bytes.fromhex(\"9601\")), 150)\n",
    "test(decode(bytes([0b00000001])), 1)\n",
    "test(decode((1).to_bytes()), 1)"
   ]
  },
  {
   "cell_type": "markdown",
   "metadata": {},
   "source": [
    "## Encoding\n",
    "\n",
    "Now, let's get to encoding."
   ]
  },
  {
   "cell_type": "code",
   "execution_count": null,
   "metadata": {},
   "outputs": [],
   "source": [
    "def encode(n: int) -> bytes:\n",
    "    # 1. Group into bytes, leaving room for the continuation bits\n",
    "    a = 0\n",
    "    i = 0\n",
    "    while n:\n",
    "        a += (n & 0b01111111) << i * 8\n",
    "        n >>= 7\n",
    "        i += 1\n",
    "\n",
    "    # 2. Convert to little-endian order\n",
    "    bytes = bytearray(a.to_bytes(num_bytes(a), \"little\"))\n",
    "\n",
    "    # 3. Add continuation bit\n",
    "    for i in range(len(bytes) - 1):\n",
    "        bytes[i] |= 0b10000000\n",
    "\n",
    "    return bytes"
   ]
  },
  {
   "cell_type": "markdown",
   "metadata": {},
   "source": [
    "All these conversions are unnecessary:"
   ]
  },
  {
   "cell_type": "code",
   "execution_count": null,
   "metadata": {},
   "outputs": [],
   "source": [
    "def encode(n: int) -> bytes:\n",
    "    encoded = []\n",
    "    while n > 127:\n",
    "        b = 0x80 # Set continuation bit\n",
    "        b |= n & 0x7f # Set payload\n",
    "        n >>= 7\n",
    "        encoded.append(b)\n",
    "    encoded.append(n)\n",
    "\n",
    "    return bytes(encoded)"
   ]
  },
  {
   "cell_type": "code",
   "execution_count": null,
   "metadata": {},
   "outputs": [],
   "source": [
    "print(\"Encode tests:\")\n",
    "test(binary(encode(150)), \"1001_0110_0000_0001\")\n",
    "test(decode(encode(150)), 150)\n"
   ]
  },
  {
   "cell_type": "markdown",
   "metadata": {},
   "source": [
    "## Extensions"
   ]
  },
  {
   "cell_type": "markdown",
   "metadata": {},
   "source": [
    "### Benchmarks\n",
    "\n",
    "TODO: Compare Python versions and C"
   ]
  },
  {
   "cell_type": "markdown",
   "metadata": {},
   "source": [
    "### Encoding and decoding adjacent `varint`s\n",
    "\n",
    "The whole point of the continuation bit is so you can tell when one `varint` ends and another begins. In the tests so far, we haven't covered that."
   ]
  },
  {
   "cell_type": "markdown",
   "metadata": {},
   "source": [
    "### ZigZag encoding\n",
    "\n",
    "TODO"
   ]
  }
 ],
 "metadata": {
  "kernelspec": {
   "display_name": "Python 3",
   "language": "python",
   "name": "python3"
  },
  "language_info": {
   "codemirror_mode": {
    "name": "ipython",
    "version": 3
   },
   "file_extension": ".py",
   "mimetype": "text/x-python",
   "name": "python",
   "nbconvert_exporter": "python",
   "pygments_lexer": "ipython3",
   "version": "3.11.9"
  }
 },
 "nbformat": 4,
 "nbformat_minor": 2
}
