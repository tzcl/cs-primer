{
 "cells": [
  {
   "cell_type": "markdown",
   "metadata": {},
   "source": [
    "# CSS Colour Converter"
   ]
  },
  {
   "cell_type": "code",
   "execution_count": 23,
   "metadata": {},
   "outputs": [],
   "source": [
    "import os\n",
    "os.chdir('computer-systems/bits-and-bytes/css-colour-convert/')"
   ]
  },
  {
   "cell_type": "markdown",
   "metadata": {},
   "source": [
    "The goal with this problem is convert hex colours in CSS to RGB form. For example:\n",
    "\n",
    "| Type | Hex | RGB |\n",
    "| --- | --- | --- |\n",
    "| Normal | `#00FF00` | `rgb(0, 255, 0)` |\n",
    "| Alpha | `#0000FFC0` | `rgb(0 0 255 / 0.75294)` |\n",
    "| Short | `#123` | `rgb(17 34 51)` |\n",
    "| Short alpha | `#00f8` | `rgb(0 255 / 0.53333)` |"
   ]
  },
  {
   "cell_type": "markdown",
   "metadata": {},
   "source": [
    "Let's start by dealing with the normal six-digit hex case."
   ]
  },
  {
   "cell_type": "code",
   "execution_count": 61,
   "metadata": {},
   "outputs": [],
   "source": [
    "def hex_to_rgb(hex: int) -> str:\n",
    "    r = (hex & 0xff0000) >> 16\n",
    "    g = (hex & 0x00ff00) >> 8\n",
    "    b = hex & 0x0000ff\n",
    "\n",
    "    return f\"rgb({r} {g} {b})\"\n",
    "\n",
    "cases = [(0xff0000, \"rgb(255 0 0)\"), (0x00ff00, \"rgb(0 255 0)\"), (0x0000ff, \"rgb(0 0 255)\")]\n",
    "for case in cases:\n",
    "    got = hex_to_rgb(case[0])\n",
    "    want = case[1]\n",
    "    assert got == want, f\"{got} vs {want}\""
   ]
  },
  {
   "cell_type": "markdown",
   "metadata": {},
   "source": [
    "The next step is processing all the input. The simplest way I can think of doing this is with a regex."
   ]
  },
  {
   "cell_type": "code",
   "execution_count": 33,
   "metadata": {},
   "outputs": [],
   "source": [
    "import re\n",
    "\n",
    "def helper(match):\n",
    "    return hex_to_rgb(int(match.group()[1:], 16))\n",
    "\n",
    "def run(path):\n",
    "    # TODO: Just iterate over regex matches?\n",
    "    res = []\n",
    "    with open(path) as f:\n",
    "        for l in f.readlines():\n",
    "            l = re.sub(\"#\\w{6}\", helper, l)\n",
    "            res.append(l)\n",
    "    return \"\".join(res)"
   ]
  },
  {
   "cell_type": "code",
   "execution_count": 37,
   "metadata": {},
   "outputs": [
    {
     "name": "stdout",
     "output_type": "stream",
     "text": [
      "/* 🎄🎄🎄 */\n",
      "\n",
      "body {\n",
      "    color: rgb(254 3 10);\n",
      "    background-color: rgb(15 13 239);\n",
      "}\n",
      "\n"
     ]
    }
   ],
   "source": [
    "print(run(\"simple.css\"))"
   ]
  },
  {
   "cell_type": "code",
   "execution_count": 27,
   "metadata": {},
   "outputs": [
    {
     "name": "stdout",
     "output_type": "stream",
     "text": [
      "/* 🎄🎄🎄 */\n",
      "\n",
      "body {\n",
      "    color: rgb(254 3 10);\n",
      "    background-color: rgb(15 13 239);\n",
      "}\n",
      "\n"
     ]
    }
   ],
   "source": [
    "with open(\"simple_expected.css\") as f:\n",
    "    print(f.read())"
   ]
  },
  {
   "cell_type": "code",
   "execution_count": 47,
   "metadata": {},
   "outputs": [
    {
     "name": "stdout",
     "output_type": "stream",
     "text": [
      "pass\n"
     ]
    }
   ],
   "source": [
    "import difflib\n",
    "\n",
    "got = run(\"simple.css\")\n",
    "with open(\"simple_expected.css\") as f:\n",
    "    want = f.read()\n",
    "\n",
    "diff = '\\n'.join(difflib.unified_diff(got.splitlines(), want.splitlines()))\n",
    "print(diff if diff != \"\" else \"pass\")"
   ]
  },
  {
   "cell_type": "markdown",
   "metadata": {},
   "source": [
    "Now for the advanced case. The tricky part is that there are a few different formats:\n",
    "```\n",
    "#RGB        // The three-value syntax\n",
    "#RGBA       // The four-value syntax\n",
    "#RRGGBB     // The six-value syntax\n",
    "#RRGGBBAA   // The eight-value syntax\n",
    "```\n",
    "\n",
    "According to MDN, the rule is that if you have just one colour, it should be duplicated, e.g., `#123` becomes `#112233`."
   ]
  },
  {
   "cell_type": "code",
   "execution_count": 147,
   "metadata": {},
   "outputs": [],
   "source": [
    "def canonicalise(raw: str) -> str:\n",
    "    match len(raw):\n",
    "        case 3: return f\"{raw[0]}{raw[0]}{raw[1]}{raw[1]}{raw[2]}{raw[2]}00\"\n",
    "        case 4: return f\"{raw[0]}{raw[0]}{raw[1]}{raw[1]}{raw[2]}{raw[2]}{raw[3]}{raw[3]}\"\n",
    "        case 6: return f\"{raw}00\"\n",
    "        case 8: return raw\n",
    "        case _: raise Exception(\"invalid hex string\")\n",
    "         \n",
    "def parse_hex(hex: str) -> int:\n",
    "    return int(hex, 16)\n",
    "\n",
    "def hex_to_rgb(hex: int) -> str:\n",
    "    r = (hex & 0xff000000) >> 24\n",
    "    g = (hex & 0x00ff0000) >> 16\n",
    "    b = (hex & 0x0000ff00) >> 8\n",
    "    a = (hex & 0x000000ff)\n",
    "\n",
    "    if a > 0:\n",
    "        return f\"rgba({r} {g} {b} / {a / 255:.5f})\"\n",
    "\n",
    "    return f\"rgb({r} {g} {b})\"\n",
    "\n",
    "cases = [\n",
    "    (\"0000FFC0\", \"rgba(0 0 255 / 0.75294)\"),\n",
    "    (\"ff00ff\", \"rgb(255 0 255)\"),\n",
    "    (\"123\", \"rgb(17 34 51)\"),\n",
    "    (\"00f8\", \"rgba(0 0 255 / 0.53333)\")\n",
    "]\n",
    "for case in cases:\n",
    "    got = hex_to_rgb(parse_hex(canonicalise(case[0])))\n",
    "    want = case[1]\n",
    "    assert got == want, f\"{got} vs {want}\""
   ]
  },
  {
   "cell_type": "code",
   "execution_count": 148,
   "metadata": {},
   "outputs": [],
   "source": [
    "pattern = \"#([a-fA-F0-9]{3,8})\"\n",
    "\n",
    "def helper(match):\n",
    "    return hex_to_rgb(parse_hex(canonicalise(match.group(1))))\n",
    "\n",
    "def run(path):\n",
    "    with open(path) as f:\n",
    "        return re.sub(pattern, helper, f.read())"
   ]
  },
  {
   "cell_type": "code",
   "execution_count": 149,
   "metadata": {},
   "outputs": [
    {
     "name": "stdout",
     "output_type": "stream",
     "text": [
      "rgb(0 255 0);\n"
     ]
    }
   ],
   "source": [
    "print(run(\"test.css\"))"
   ]
  },
  {
   "cell_type": "code",
   "execution_count": 150,
   "metadata": {},
   "outputs": [
    {
     "name": "stdout",
     "output_type": "stream",
     "text": [
      "/* https://www.w3.org/TR/css-color-4/#hex-notation */\n",
      "\n",
      ".six-digits {\n",
      "    color: rgb(0 255 0);\n",
      "}\n",
      "\n",
      ".eight-digits.upper-case {\n",
      "    color: rgba(0 0 255 / 0.75294);\n",
      "}\n",
      "\n",
      ".three-digits {\n",
      "    color: rgb(17 34 51);\n",
      "}\n",
      "\n",
      ".four-digits {\n",
      "    color: rgba(0 0 255 / 0.53333);\n",
      "}\n",
      "\n"
     ]
    }
   ],
   "source": [
    "print(run(\"advanced.css\"))"
   ]
  },
  {
   "cell_type": "code",
   "execution_count": 152,
   "metadata": {},
   "outputs": [
    {
     "name": "stdout",
     "output_type": "stream",
     "text": [
      "\n"
     ]
    }
   ],
   "source": [
    "import difflib\n",
    "\n",
    "got = run(\"advanced.css\")\n",
    "with open(\"advanced_expected.css\") as f:\n",
    "    want = f.read()\n",
    "\n",
    "diff = difflib.unified_diff(got.splitlines(), want.splitlines())\n",
    "print('\\n'.join(diff))"
   ]
  },
  {
   "cell_type": "code",
   "execution_count": null,
   "metadata": {},
   "outputs": [],
   "source": []
  }
 ],
 "metadata": {
  "kernelspec": {
   "display_name": "Python 3 (ipykernel)",
   "language": "python",
   "name": "python3"
  },
  "language_info": {
   "codemirror_mode": {
    "name": "ipython",
    "version": 3
   },
   "file_extension": ".py",
   "mimetype": "text/x-python",
   "name": "python",
   "nbconvert_exporter": "python",
   "pygments_lexer": "ipython3",
   "version": "3.10.14"
  }
 },
 "nbformat": 4,
 "nbformat_minor": 2
}
